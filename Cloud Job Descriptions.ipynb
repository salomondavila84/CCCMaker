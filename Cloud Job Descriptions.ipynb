{
 "cells": [
  {
   "cell_type": "markdown",
   "metadata": {},
   "source": [
    "## Web Scraping of job postings \n",
    "\n",
    "### 100 pages of job search results were injested for results with a either \"cloud+architect\" or \"cloud+solutions\" as the search field. The top phrases and companies were counted for each result.\n",
    "\n",
    "#### sample web search [Cloud Arhitect](http://www.indeed.com/jobs?q=cloud+architect&start=)"
   ]
  },
  {
   "cell_type": "code",
   "execution_count": 20,
   "metadata": {},
   "outputs": [
    {
     "name": "stdout",
     "output_type": "stream",
     "text": [
      "\n",
      "                            Lead the design and development for the cloud platform applications. Build, extend and maintain monitoring solutions for the cloud platform and its applications...\n",
      "\n",
      "    \n",
      "    NSS Labs, Inc.\n"
     ]
    }
   ],
   "source": [
    "import requests\n",
    "from bs4 import BeautifulSoup\n",
    "from sklearn.feature_extraction.text import CountVectorizer\n",
    "\n",
    "# grab postings from the web\n",
    "cloud_arch_summary = []\n",
    "cloud_arch_company = []\n",
    "for i in range(0,1000,10): # cycle through 100 pages of indeed job resources\n",
    "    soup = BeautifulSoup(requests.get('http://www.indeed.com/jobs?q=cloud+architect&start='+str(i)).text, \"html5lib\")\n",
    "    cloud_arch_summary += [a.text for a in soup.findAll('span', {'class':'summary'})]\n",
    "    cloud_arch_company += [a.text for a in soup.findAll('span', {'class':'company'})]\n",
    "\n",
    "\n",
    "#print (type(cloud_arch))\n",
    "\n",
    "print (cloud_arch_summary[0])   # first job description\n",
    "print (cloud_arch_company[0])"
   ]
  },
  {
   "cell_type": "code",
   "execution_count": 21,
   "metadata": {},
   "outputs": [
    {
     "name": "stdout",
     "output_type": "stream",
     "text": [
      "1592\n",
      "1593\n"
     ]
    }
   ],
   "source": [
    "print (len(cloud_arch_summary))\n",
    "print (len(cloud_arch_company))"
   ]
  },
  {
   "cell_type": "code",
   "execution_count": 22,
   "metadata": {},
   "outputs": [
    {
     "name": "stdout",
     "output_type": "stream",
     "text": [
      "8698\n",
      "cloud 2874\n",
      "experience 794\n",
      "architect 466\n",
      "solutions 418\n",
      "design 376\n",
      "aws 342\n",
      "computing 319\n",
      "cloud computing 309\n",
      "platform 280\n",
      "applications 265\n",
      "cloud platform 257\n",
      "technology 257\n",
      "development 247\n",
      "application 239\n",
      "solutions cloud 230\n",
      "azure 229\n",
      "build 227\n",
      "infrastructure 225\n",
      "seeking 223\n",
      "services 206\n",
      "platform applications 194\n",
      "experience cloud 184\n",
      "team 181\n",
      "years 178\n",
      "systems 176\n"
     ]
    }
   ],
   "source": [
    "vect = CountVectorizer(ngram_range=(1,2), stop_words='english')\n",
    "# make a count vectorizer to get basic counts\n",
    "\n",
    "matrix = vect.fit_transform(cloud_arch_summary)\n",
    "# fit and learn to the vocabulary in the corpus\n",
    "\n",
    "print (len(vect.get_feature_names()))  # how many features are there\n",
    "\n",
    "freqs = [(word, matrix.getcol(idx).sum()) for word, idx in vect.vocabulary_.items()]\n",
    "#sort from largest to smallest\n",
    "for phrase, times in sorted (freqs, key = lambda x: -x[1])[:25]:\n",
    "    print (phrase, times)"
   ]
  },
  {
   "cell_type": "markdown",
   "metadata": {},
   "source": [
    "> Top phrases resulted in technology terms like cloud experience and architect solutions while the most prevalent activities are design, development, build and team. The top platform is AWS over Azure."
   ]
  },
  {
   "cell_type": "code",
   "execution_count": 23,
   "metadata": {},
   "outputs": [
    {
     "name": "stdout",
     "output_type": "stream",
     "text": [
      "1109\n",
      "cgi 114\n",
      "com 110\n",
      "amazon 108\n",
      "amazon com 108\n",
      "research 101\n",
      "nss 100\n",
      "labs 100\n",
      "nss labs 100\n",
      "assurant 100\n",
      "edge 99\n",
      "case 99\n",
      "edge case 99\n",
      "case research 99\n",
      "linode 99\n",
      "medaptus 97\n",
      "llc 47\n",
      "solutions 40\n",
      "group 34\n",
      "technologies 25\n",
      "microsoft 24\n",
      "systems 22\n",
      "oracle 18\n",
      "technology 17\n",
      "bank 16\n",
      "cognizant 15\n"
     ]
    }
   ],
   "source": [
    "vect = CountVectorizer(ngram_range=(1,2), stop_words='english')\n",
    "# make a count vectorizer to get basic counts\n",
    "\n",
    "matrix = vect.fit_transform(cloud_arch_company)\n",
    "# fit and learn to the vocabulary in the corpus\n",
    "\n",
    "print (len(vect.get_feature_names()))  # how many features are there\n",
    "\n",
    "freqs = [(word, matrix.getcol(idx).sum()) for word, idx in vect.vocabulary_.items()]\n",
    "#sort from largest to smallest\n",
    "for phrase, times in sorted (freqs, key = lambda x: -x[1])[:25]:\n",
    "    print (phrase, times)"
   ]
  },
  {
   "cell_type": "markdown",
   "metadata": {},
   "source": [
    "> Top companies include CGI, Amazon, NSS Labs, Assurant, Edge Case, Linode, Medapus, Microsoft, Oracle and Cognizant"
   ]
  },
  {
   "cell_type": "code",
   "execution_count": 24,
   "metadata": {},
   "outputs": [
    {
     "name": "stdout",
     "output_type": "stream",
     "text": [
      "\n",
      "                            Architect full rack solutions and decoupled compute and storage solutions. We are currently seeking a Cloud Server Build Engineer to drive the continual...\n",
      "\n",
      "    Linode\n"
     ]
    }
   ],
   "source": [
    "# grab postings from the web\n",
    "cloud_sol_summary = []\n",
    "cloud_sol_company = []\n",
    "for i in range(0,1000,10): # cycle through 100 pages of indeed job resources\n",
    "    soup = BeautifulSoup(requests.get('http://www.indeed.com/jobs?q=cloud+solutions&start='+str(i)).text, \"html5lib\")\n",
    "    cloud_sol_summary += [a.text for a in soup.findAll('span', {'class':'summary'})]\n",
    "    cloud_sol_company += [a.text for a in soup.findAll('span', {'class':'company'})]\n",
    "\n",
    "\n",
    "#print (type(cloud_arch))\n",
    "\n",
    "print (cloud_sol_summary[0])   # first job description\n",
    "print (cloud_sol_company[0])"
   ]
  },
  {
   "cell_type": "code",
   "execution_count": 25,
   "metadata": {},
   "outputs": [
    {
     "name": "stdout",
     "output_type": "stream",
     "text": [
      "1596\n",
      "1596\n"
     ]
    }
   ],
   "source": [
    "print (len(cloud_sol_summary))\n",
    "print (len(cloud_sol_company))"
   ]
  },
  {
   "cell_type": "code",
   "execution_count": 26,
   "metadata": {},
   "outputs": [
    {
     "name": "stdout",
     "output_type": "stream",
     "text": [
      "9192\n",
      "cloud 1658\n",
      "solutions 1169\n",
      "solution 447\n",
      "experience 442\n",
      "architect 255\n",
      "aws 250\n",
      "development 246\n",
      "based 241\n",
      "end 214\n",
      "storage 204\n",
      "software 203\n",
      "engineers 202\n",
      "developer 199\n",
      "computing 194\n",
      "cloud computing 186\n",
      "google 186\n",
      "support 174\n",
      "google cloud 164\n",
      "sales 160\n",
      "engineer 159\n",
      "azure 154\n",
      "responsible 149\n",
      "services 147\n",
      "management 144\n",
      "build 140\n"
     ]
    }
   ],
   "source": [
    "vect = CountVectorizer(ngram_range=(1,2), stop_words='english')\n",
    "# make a count vectorizer to get basic counts\n",
    "\n",
    "matrix = vect.fit_transform(cloud_sol_summary)\n",
    "# fit and learn to the vocabulary in the corpus\n",
    "\n",
    "print (len(vect.get_feature_names()))  # how many features are there\n",
    "\n",
    "freqs = [(word, matrix.getcol(idx).sum()) for word, idx in vect.vocabulary_.items()]\n",
    "#sort from largest to smallest\n",
    "for phrase, times in sorted (freqs, key = lambda x: -x[1])[:25]:\n",
    "    print (phrase, times)"
   ]
  },
  {
   "cell_type": "markdown",
   "metadata": {},
   "source": [
    "> Top platform is AWS over Google and Azure with activites being described as development, support, responsible, management and build. "
   ]
  },
  {
   "cell_type": "code",
   "execution_count": null,
   "metadata": {
    "collapsed": true
   },
   "outputs": [],
   "source": []
  }
 ],
 "metadata": {
  "kernelspec": {
   "display_name": "Python 3",
   "language": "python",
   "name": "python3"
  },
  "language_info": {
   "codemirror_mode": {
    "name": "ipython",
    "version": 3
   },
   "file_extension": ".py",
   "mimetype": "text/x-python",
   "name": "python",
   "nbconvert_exporter": "python",
   "pygments_lexer": "ipython3",
   "version": "3.6.3"
  }
 },
 "nbformat": 4,
 "nbformat_minor": 2
}

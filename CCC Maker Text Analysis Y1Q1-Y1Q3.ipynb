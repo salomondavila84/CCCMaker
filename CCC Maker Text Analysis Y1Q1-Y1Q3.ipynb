{
 "cells": [
  {
   "cell_type": "markdown",
   "metadata": {},
   "source": [
    "## CCC Maker Quarterly Report Text Analysis - Year 1 Q1 - Year 1 Q3 Reporting\n",
    "\n",
    "### The following analysis is a temporal study of character count by quarterly report entries of  'Activities' and 'Success' for 4 outcomes and 24 colleges. There are three studies performed:\n",
    "> Study 1: The mean of character counts for Activities and Success entries by quarters.\n",
    "\n",
    "> Study 2: The mean of character counts for Activities and Success entries per Outcome by quarters.\n",
    "\n",
    "> Study 3: The mean of character counts for Activities and Success entries per College by quarters."
   ]
  },
  {
   "cell_type": "code",
   "execution_count": 1,
   "metadata": {
    "collapsed": true
   },
   "outputs": [],
   "source": [
    "import pandas as pd"
   ]
  },
  {
   "cell_type": "code",
   "execution_count": 2,
   "metadata": {
    "collapsed": true
   },
   "outputs": [],
   "source": [
    "report_df = pd.read_csv(\"cccmaker_y1q1-y1q3.csv\")"
   ]
  },
  {
   "cell_type": "code",
   "execution_count": 3,
   "metadata": {},
   "outputs": [
    {
     "data": {
      "text/html": [
       "<div>\n",
       "<style>\n",
       "    .dataframe thead tr:only-child th {\n",
       "        text-align: right;\n",
       "    }\n",
       "\n",
       "    .dataframe thead th {\n",
       "        text-align: left;\n",
       "    }\n",
       "\n",
       "    .dataframe tbody tr th {\n",
       "        vertical-align: top;\n",
       "    }\n",
       "</style>\n",
       "<table border=\"1\" class=\"dataframe\">\n",
       "  <thead>\n",
       "    <tr style=\"text-align: right;\">\n",
       "      <th></th>\n",
       "      <th>Created</th>\n",
       "      <th>College</th>\n",
       "      <th>Reporting Quarter</th>\n",
       "      <th>Outcome</th>\n",
       "      <th>Submission By</th>\n",
       "      <th>Activities</th>\n",
       "      <th>Success</th>\n",
       "    </tr>\n",
       "  </thead>\n",
       "  <tbody>\n",
       "    <tr>\n",
       "      <th>0</th>\n",
       "      <td>05/09/18 7:20 PM</td>\n",
       "      <td>American River College</td>\n",
       "      <td>Q3 Mar 31 2018</td>\n",
       "      <td>Internships</td>\n",
       "      <td>Randy Schuster</td>\n",
       "      <td>The Design hub offers over 70 real word projec...</td>\n",
       "      <td>ARC Design Hub is actively working with the Ca...</td>\n",
       "    </tr>\n",
       "    <tr>\n",
       "      <th>1</th>\n",
       "      <td>05/02/18 11:57 AM</td>\n",
       "      <td>Foothill College</td>\n",
       "      <td>Q3 Mar 31 2018</td>\n",
       "      <td>Internships</td>\n",
       "      <td>brumbaugh@krauseinnovationcenter.org</td>\n",
       "      <td>We have been doing outreach for additional int...</td>\n",
       "      <td>We completed our first MakerCamp during the 3r...</td>\n",
       "    </tr>\n",
       "    <tr>\n",
       "      <th>2</th>\n",
       "      <td>04/25/18 12:06 AM</td>\n",
       "      <td>Butte College</td>\n",
       "      <td>Q3 Mar 31 2018</td>\n",
       "      <td>Internships</td>\n",
       "      <td>donnellyda@butte.edu</td>\n",
       "      <td>Due to our college not wanting to sign the Cat...</td>\n",
       "      <td>We have not been able to do internships yet.\\n...</td>\n",
       "    </tr>\n",
       "    <tr>\n",
       "      <th>3</th>\n",
       "      <td>04/25/18 12:04 AM</td>\n",
       "      <td>Butte College</td>\n",
       "      <td>Q3 Mar 31 2018</td>\n",
       "      <td>Internships</td>\n",
       "      <td>donnellyda@butte.edu</td>\n",
       "      <td>Due to our college not wanting to sign the Cat...</td>\n",
       "      <td>We have not been able to do internships yet.\\n...</td>\n",
       "    </tr>\n",
       "    <tr>\n",
       "      <th>4</th>\n",
       "      <td>04/25/18 12:03 AM</td>\n",
       "      <td>Butte College</td>\n",
       "      <td>Q3 Mar 31 2018</td>\n",
       "      <td>Internships</td>\n",
       "      <td>donnellyda@butte.edu</td>\n",
       "      <td>Due to our college not wanting to sign the Cat...</td>\n",
       "      <td>We have not been able to do internships yet.\\n...</td>\n",
       "    </tr>\n",
       "  </tbody>\n",
       "</table>\n",
       "</div>"
      ],
      "text/plain": [
       "             Created                 College Reporting Quarter      Outcome  \\\n",
       "0   05/09/18 7:20 PM  American River College    Q3 Mar 31 2018  Internships   \n",
       "1  05/02/18 11:57 AM        Foothill College    Q3 Mar 31 2018  Internships   \n",
       "2  04/25/18 12:06 AM           Butte College    Q3 Mar 31 2018  Internships   \n",
       "3  04/25/18 12:04 AM           Butte College    Q3 Mar 31 2018  Internships   \n",
       "4  04/25/18 12:03 AM           Butte College    Q3 Mar 31 2018  Internships   \n",
       "\n",
       "                          Submission By  \\\n",
       "0                        Randy Schuster   \n",
       "1  brumbaugh@krauseinnovationcenter.org   \n",
       "2                  donnellyda@butte.edu   \n",
       "3                  donnellyda@butte.edu   \n",
       "4                  donnellyda@butte.edu   \n",
       "\n",
       "                                          Activities  \\\n",
       "0  The Design hub offers over 70 real word projec...   \n",
       "1  We have been doing outreach for additional int...   \n",
       "2  Due to our college not wanting to sign the Cat...   \n",
       "3  Due to our college not wanting to sign the Cat...   \n",
       "4  Due to our college not wanting to sign the Cat...   \n",
       "\n",
       "                                             Success  \n",
       "0  ARC Design Hub is actively working with the Ca...  \n",
       "1  We completed our first MakerCamp during the 3r...  \n",
       "2  We have not been able to do internships yet.\\n...  \n",
       "3  We have not been able to do internships yet.\\n...  \n",
       "4  We have not been able to do internships yet.\\n...  "
      ]
     },
     "execution_count": 3,
     "metadata": {},
     "output_type": "execute_result"
    }
   ],
   "source": [
    "report_df.head()"
   ]
  },
  {
   "cell_type": "code",
   "execution_count": 4,
   "metadata": {},
   "outputs": [
    {
     "data": {
      "text/plain": [
       "(291, 7)"
      ]
     },
     "execution_count": 4,
     "metadata": {},
     "output_type": "execute_result"
    }
   ],
   "source": [
    "report_df.shape"
   ]
  },
  {
   "cell_type": "code",
   "execution_count": 5,
   "metadata": {},
   "outputs": [
    {
     "data": {
      "text/plain": [
       "Created              0\n",
       "College              0\n",
       "Reporting Quarter    0\n",
       "Outcome              0\n",
       "Submission By        0\n",
       "Activities           0\n",
       "Success              5\n",
       "dtype: int64"
      ]
     },
     "execution_count": 5,
     "metadata": {},
     "output_type": "execute_result"
    }
   ],
   "source": [
    "report_df.isnull().sum()"
   ]
  },
  {
   "cell_type": "code",
   "execution_count": 8,
   "metadata": {},
   "outputs": [
    {
     "data": {
      "text/plain": [
       "count                                                   291\n",
       "unique                                                  285\n",
       "top       Due to our college not wanting to sign the Cat...\n",
       "freq                                                      3\n",
       "Name: Activities, dtype: object"
      ]
     },
     "execution_count": 8,
     "metadata": {},
     "output_type": "execute_result"
    }
   ],
   "source": [
    "report_df['Activities'].describe()"
   ]
  },
  {
   "cell_type": "code",
   "execution_count": 9,
   "metadata": {},
   "outputs": [
    {
     "data": {
      "text/plain": [
       "count             291\n",
       "unique              4\n",
       "top       Internships\n",
       "freq               75\n",
       "Name: Outcome, dtype: object"
      ]
     },
     "execution_count": 9,
     "metadata": {},
     "output_type": "execute_result"
    }
   ],
   "source": [
    "report_df['Outcome'].describe()"
   ]
  },
  {
   "cell_type": "code",
   "execution_count": 10,
   "metadata": {
    "collapsed": true
   },
   "outputs": [],
   "source": [
    "text = report_df['Activities'][0]"
   ]
  },
  {
   "cell_type": "code",
   "execution_count": 11,
   "metadata": {},
   "outputs": [
    {
     "data": {
      "text/plain": [
       "438"
      ]
     },
     "execution_count": 11,
     "metadata": {},
     "output_type": "execute_result"
    }
   ],
   "source": [
    "len(text)"
   ]
  },
  {
   "cell_type": "code",
   "execution_count": 12,
   "metadata": {
    "collapsed": true
   },
   "outputs": [],
   "source": [
    "def text_len(text):\n",
    "    return len(text)"
   ]
  },
  {
   "cell_type": "code",
   "execution_count": 13,
   "metadata": {},
   "outputs": [
    {
     "data": {
      "text/plain": [
       "438"
      ]
     },
     "execution_count": 13,
     "metadata": {},
     "output_type": "execute_result"
    }
   ],
   "source": [
    "text_len(text)"
   ]
  },
  {
   "cell_type": "code",
   "execution_count": 14,
   "metadata": {
    "collapsed": true
   },
   "outputs": [],
   "source": [
    "report_df['Activities_len'] = report_df['Activities'].apply(text_len)"
   ]
  },
  {
   "cell_type": "code",
   "execution_count": 15,
   "metadata": {},
   "outputs": [
    {
     "data": {
      "text/html": [
       "<div>\n",
       "<style>\n",
       "    .dataframe thead tr:only-child th {\n",
       "        text-align: right;\n",
       "    }\n",
       "\n",
       "    .dataframe thead th {\n",
       "        text-align: left;\n",
       "    }\n",
       "\n",
       "    .dataframe tbody tr th {\n",
       "        vertical-align: top;\n",
       "    }\n",
       "</style>\n",
       "<table border=\"1\" class=\"dataframe\">\n",
       "  <thead>\n",
       "    <tr style=\"text-align: right;\">\n",
       "      <th></th>\n",
       "      <th>Created</th>\n",
       "      <th>College</th>\n",
       "      <th>Reporting Quarter</th>\n",
       "      <th>Outcome</th>\n",
       "      <th>Submission By</th>\n",
       "      <th>Activities</th>\n",
       "      <th>Success</th>\n",
       "      <th>Activities_len</th>\n",
       "    </tr>\n",
       "  </thead>\n",
       "  <tbody>\n",
       "    <tr>\n",
       "      <th>0</th>\n",
       "      <td>05/09/18 7:20 PM</td>\n",
       "      <td>American River College</td>\n",
       "      <td>Q3 Mar 31 2018</td>\n",
       "      <td>Internships</td>\n",
       "      <td>Randy Schuster</td>\n",
       "      <td>The Design hub offers over 70 real word projec...</td>\n",
       "      <td>ARC Design Hub is actively working with the Ca...</td>\n",
       "      <td>438</td>\n",
       "    </tr>\n",
       "    <tr>\n",
       "      <th>1</th>\n",
       "      <td>05/02/18 11:57 AM</td>\n",
       "      <td>Foothill College</td>\n",
       "      <td>Q3 Mar 31 2018</td>\n",
       "      <td>Internships</td>\n",
       "      <td>brumbaugh@krauseinnovationcenter.org</td>\n",
       "      <td>We have been doing outreach for additional int...</td>\n",
       "      <td>We completed our first MakerCamp during the 3r...</td>\n",
       "      <td>915</td>\n",
       "    </tr>\n",
       "    <tr>\n",
       "      <th>2</th>\n",
       "      <td>04/25/18 12:06 AM</td>\n",
       "      <td>Butte College</td>\n",
       "      <td>Q3 Mar 31 2018</td>\n",
       "      <td>Internships</td>\n",
       "      <td>donnellyda@butte.edu</td>\n",
       "      <td>Due to our college not wanting to sign the Cat...</td>\n",
       "      <td>We have not been able to do internships yet.\\n...</td>\n",
       "      <td>751</td>\n",
       "    </tr>\n",
       "    <tr>\n",
       "      <th>3</th>\n",
       "      <td>04/25/18 12:04 AM</td>\n",
       "      <td>Butte College</td>\n",
       "      <td>Q3 Mar 31 2018</td>\n",
       "      <td>Internships</td>\n",
       "      <td>donnellyda@butte.edu</td>\n",
       "      <td>Due to our college not wanting to sign the Cat...</td>\n",
       "      <td>We have not been able to do internships yet.\\n...</td>\n",
       "      <td>751</td>\n",
       "    </tr>\n",
       "    <tr>\n",
       "      <th>4</th>\n",
       "      <td>04/25/18 12:03 AM</td>\n",
       "      <td>Butte College</td>\n",
       "      <td>Q3 Mar 31 2018</td>\n",
       "      <td>Internships</td>\n",
       "      <td>donnellyda@butte.edu</td>\n",
       "      <td>Due to our college not wanting to sign the Cat...</td>\n",
       "      <td>We have not been able to do internships yet.\\n...</td>\n",
       "      <td>751</td>\n",
       "    </tr>\n",
       "  </tbody>\n",
       "</table>\n",
       "</div>"
      ],
      "text/plain": [
       "             Created                 College Reporting Quarter      Outcome  \\\n",
       "0   05/09/18 7:20 PM  American River College    Q3 Mar 31 2018  Internships   \n",
       "1  05/02/18 11:57 AM        Foothill College    Q3 Mar 31 2018  Internships   \n",
       "2  04/25/18 12:06 AM           Butte College    Q3 Mar 31 2018  Internships   \n",
       "3  04/25/18 12:04 AM           Butte College    Q3 Mar 31 2018  Internships   \n",
       "4  04/25/18 12:03 AM           Butte College    Q3 Mar 31 2018  Internships   \n",
       "\n",
       "                          Submission By  \\\n",
       "0                        Randy Schuster   \n",
       "1  brumbaugh@krauseinnovationcenter.org   \n",
       "2                  donnellyda@butte.edu   \n",
       "3                  donnellyda@butte.edu   \n",
       "4                  donnellyda@butte.edu   \n",
       "\n",
       "                                          Activities  \\\n",
       "0  The Design hub offers over 70 real word projec...   \n",
       "1  We have been doing outreach for additional int...   \n",
       "2  Due to our college not wanting to sign the Cat...   \n",
       "3  Due to our college not wanting to sign the Cat...   \n",
       "4  Due to our college not wanting to sign the Cat...   \n",
       "\n",
       "                                             Success  Activities_len  \n",
       "0  ARC Design Hub is actively working with the Ca...             438  \n",
       "1  We completed our first MakerCamp during the 3r...             915  \n",
       "2  We have not been able to do internships yet.\\n...             751  \n",
       "3  We have not been able to do internships yet.\\n...             751  \n",
       "4  We have not been able to do internships yet.\\n...             751  "
      ]
     },
     "execution_count": 15,
     "metadata": {},
     "output_type": "execute_result"
    }
   ],
   "source": [
    "report_df.head()"
   ]
  },
  {
   "cell_type": "code",
   "execution_count": 16,
   "metadata": {
    "collapsed": true
   },
   "outputs": [],
   "source": [
    "report_df['Success'].fillna('-', inplace = True)"
   ]
  },
  {
   "cell_type": "code",
   "execution_count": 17,
   "metadata": {},
   "outputs": [
    {
     "data": {
      "text/plain": [
       "Created              0\n",
       "College              0\n",
       "Reporting Quarter    0\n",
       "Outcome              0\n",
       "Submission By        0\n",
       "Activities           0\n",
       "Success              0\n",
       "Activities_len       0\n",
       "dtype: int64"
      ]
     },
     "execution_count": 17,
     "metadata": {},
     "output_type": "execute_result"
    }
   ],
   "source": [
    "report_df.isnull().sum()"
   ]
  },
  {
   "cell_type": "code",
   "execution_count": 18,
   "metadata": {
    "collapsed": true
   },
   "outputs": [],
   "source": [
    "report_df['Success_len'] = report_df['Success'].apply(text_len)"
   ]
  },
  {
   "cell_type": "code",
   "execution_count": 19,
   "metadata": {},
   "outputs": [
    {
     "data": {
      "text/html": [
       "<div>\n",
       "<style>\n",
       "    .dataframe thead tr:only-child th {\n",
       "        text-align: right;\n",
       "    }\n",
       "\n",
       "    .dataframe thead th {\n",
       "        text-align: left;\n",
       "    }\n",
       "\n",
       "    .dataframe tbody tr th {\n",
       "        vertical-align: top;\n",
       "    }\n",
       "</style>\n",
       "<table border=\"1\" class=\"dataframe\">\n",
       "  <thead>\n",
       "    <tr style=\"text-align: right;\">\n",
       "      <th></th>\n",
       "      <th>Created</th>\n",
       "      <th>College</th>\n",
       "      <th>Reporting Quarter</th>\n",
       "      <th>Outcome</th>\n",
       "      <th>Submission By</th>\n",
       "      <th>Activities</th>\n",
       "      <th>Success</th>\n",
       "      <th>Activities_len</th>\n",
       "      <th>Success_len</th>\n",
       "    </tr>\n",
       "  </thead>\n",
       "  <tbody>\n",
       "    <tr>\n",
       "      <th>0</th>\n",
       "      <td>05/09/18 7:20 PM</td>\n",
       "      <td>American River College</td>\n",
       "      <td>Q3 Mar 31 2018</td>\n",
       "      <td>Internships</td>\n",
       "      <td>Randy Schuster</td>\n",
       "      <td>The Design hub offers over 70 real word projec...</td>\n",
       "      <td>ARC Design Hub is actively working with the Ca...</td>\n",
       "      <td>438</td>\n",
       "      <td>2236</td>\n",
       "    </tr>\n",
       "    <tr>\n",
       "      <th>1</th>\n",
       "      <td>05/02/18 11:57 AM</td>\n",
       "      <td>Foothill College</td>\n",
       "      <td>Q3 Mar 31 2018</td>\n",
       "      <td>Internships</td>\n",
       "      <td>brumbaugh@krauseinnovationcenter.org</td>\n",
       "      <td>We have been doing outreach for additional int...</td>\n",
       "      <td>We completed our first MakerCamp during the 3r...</td>\n",
       "      <td>915</td>\n",
       "      <td>566</td>\n",
       "    </tr>\n",
       "    <tr>\n",
       "      <th>2</th>\n",
       "      <td>04/25/18 12:06 AM</td>\n",
       "      <td>Butte College</td>\n",
       "      <td>Q3 Mar 31 2018</td>\n",
       "      <td>Internships</td>\n",
       "      <td>donnellyda@butte.edu</td>\n",
       "      <td>Due to our college not wanting to sign the Cat...</td>\n",
       "      <td>We have not been able to do internships yet.\\n...</td>\n",
       "      <td>751</td>\n",
       "      <td>420</td>\n",
       "    </tr>\n",
       "    <tr>\n",
       "      <th>3</th>\n",
       "      <td>04/25/18 12:04 AM</td>\n",
       "      <td>Butte College</td>\n",
       "      <td>Q3 Mar 31 2018</td>\n",
       "      <td>Internships</td>\n",
       "      <td>donnellyda@butte.edu</td>\n",
       "      <td>Due to our college not wanting to sign the Cat...</td>\n",
       "      <td>We have not been able to do internships yet.\\n...</td>\n",
       "      <td>751</td>\n",
       "      <td>420</td>\n",
       "    </tr>\n",
       "    <tr>\n",
       "      <th>4</th>\n",
       "      <td>04/25/18 12:03 AM</td>\n",
       "      <td>Butte College</td>\n",
       "      <td>Q3 Mar 31 2018</td>\n",
       "      <td>Internships</td>\n",
       "      <td>donnellyda@butte.edu</td>\n",
       "      <td>Due to our college not wanting to sign the Cat...</td>\n",
       "      <td>We have not been able to do internships yet.\\n...</td>\n",
       "      <td>751</td>\n",
       "      <td>420</td>\n",
       "    </tr>\n",
       "  </tbody>\n",
       "</table>\n",
       "</div>"
      ],
      "text/plain": [
       "             Created                 College Reporting Quarter      Outcome  \\\n",
       "0   05/09/18 7:20 PM  American River College    Q3 Mar 31 2018  Internships   \n",
       "1  05/02/18 11:57 AM        Foothill College    Q3 Mar 31 2018  Internships   \n",
       "2  04/25/18 12:06 AM           Butte College    Q3 Mar 31 2018  Internships   \n",
       "3  04/25/18 12:04 AM           Butte College    Q3 Mar 31 2018  Internships   \n",
       "4  04/25/18 12:03 AM           Butte College    Q3 Mar 31 2018  Internships   \n",
       "\n",
       "                          Submission By  \\\n",
       "0                        Randy Schuster   \n",
       "1  brumbaugh@krauseinnovationcenter.org   \n",
       "2                  donnellyda@butte.edu   \n",
       "3                  donnellyda@butte.edu   \n",
       "4                  donnellyda@butte.edu   \n",
       "\n",
       "                                          Activities  \\\n",
       "0  The Design hub offers over 70 real word projec...   \n",
       "1  We have been doing outreach for additional int...   \n",
       "2  Due to our college not wanting to sign the Cat...   \n",
       "3  Due to our college not wanting to sign the Cat...   \n",
       "4  Due to our college not wanting to sign the Cat...   \n",
       "\n",
       "                                             Success  Activities_len  \\\n",
       "0  ARC Design Hub is actively working with the Ca...             438   \n",
       "1  We completed our first MakerCamp during the 3r...             915   \n",
       "2  We have not been able to do internships yet.\\n...             751   \n",
       "3  We have not been able to do internships yet.\\n...             751   \n",
       "4  We have not been able to do internships yet.\\n...             751   \n",
       "\n",
       "   Success_len  \n",
       "0         2236  \n",
       "1          566  \n",
       "2          420  \n",
       "3          420  \n",
       "4          420  "
      ]
     },
     "execution_count": 19,
     "metadata": {},
     "output_type": "execute_result"
    }
   ],
   "source": [
    "report_df.head()"
   ]
  },
  {
   "cell_type": "code",
   "execution_count": 20,
   "metadata": {},
   "outputs": [
    {
     "data": {
      "text/plain": [
       "count     291.000000\n",
       "mean     1167.075601\n",
       "std       872.667003\n",
       "min        13.000000\n",
       "25%       488.000000\n",
       "50%       933.000000\n",
       "75%      1525.000000\n",
       "max      3999.000000\n",
       "Name: Activities_len, dtype: float64"
      ]
     },
     "execution_count": 20,
     "metadata": {},
     "output_type": "execute_result"
    }
   ],
   "source": [
    "report_df['Activities_len'].describe()"
   ]
  },
  {
   "cell_type": "code",
   "execution_count": 21,
   "metadata": {},
   "outputs": [
    {
     "data": {
      "text/plain": [
       "count     291.000000\n",
       "mean      597.989691\n",
       "std       495.097556\n",
       "min         1.000000\n",
       "25%       248.000000\n",
       "50%       451.000000\n",
       "75%       807.000000\n",
       "max      2328.000000\n",
       "Name: Success_len, dtype: float64"
      ]
     },
     "execution_count": 21,
     "metadata": {},
     "output_type": "execute_result"
    }
   ],
   "source": [
    "report_df['Success_len'].describe()"
   ]
  },
  {
   "cell_type": "code",
   "execution_count": 22,
   "metadata": {
    "collapsed": true
   },
   "outputs": [],
   "source": [
    "grouped_quarter_activities_len = report_df['Activities_len'].groupby(report_df['Reporting Quarter'])"
   ]
  },
  {
   "cell_type": "code",
   "execution_count": 23,
   "metadata": {},
   "outputs": [
    {
     "data": {
      "text/plain": [
       "Reporting Quarter\n",
       "Q1 Sept 30 2017    1089.422680\n",
       "Q2 Dec 31 2017     1251.625000\n",
       "Q3 Mar 31 2018     1161.112245\n",
       "Name: Activities_len, dtype: float64"
      ]
     },
     "execution_count": 23,
     "metadata": {},
     "output_type": "execute_result"
    }
   ],
   "source": [
    "grouped_quarter_activities_len.mean()"
   ]
  },
  {
   "cell_type": "code",
   "execution_count": 24,
   "metadata": {},
   "outputs": [
    {
     "data": {
      "text/plain": [
       "pandas.core.series.Series"
      ]
     },
     "execution_count": 24,
     "metadata": {},
     "output_type": "execute_result"
    }
   ],
   "source": [
    "type(grouped_quarter_activities_len.mean())"
   ]
  },
  {
   "cell_type": "code",
   "execution_count": 25,
   "metadata": {},
   "outputs": [
    {
     "data": {
      "text/plain": [
       "<matplotlib.axes._subplots.AxesSubplot at 0x16eaa83d7b8>"
      ]
     },
     "execution_count": 25,
     "metadata": {},
     "output_type": "execute_result"
    },
    {
     "data": {
      "image/png": "[encoded data removed]",
      "text/plain": [
       "<matplotlib.figure.Figure at 0x16eab172a20>"
      ]
     },
     "metadata": {},
     "output_type": "display_data"
    }
   ],
   "source": [
    "%matplotlib inline\n",
    "import matplotlib.pyplot as plt\n",
    "data = grouped_quarter_activities_len.mean()\n",
    "data.plot.bar(title='Mean of All Outcomes Character Count by Reporting Quarter - Activities', figsize=(8,6))"
   ]
  },
  {
   "cell_type": "code",
   "execution_count": 26,
   "metadata": {
    "collapsed": true
   },
   "outputs": [],
   "source": [
    "grouped_quarter_success_len = report_df['Success_len'].groupby(report_df['Reporting Quarter'])"
   ]
  },
  {
   "cell_type": "code",
   "execution_count": 27,
   "metadata": {},
   "outputs": [
    {
     "data": {
      "text/plain": [
       "Reporting Quarter\n",
       "Q1 Sept 30 2017    478.618557\n",
       "Q2 Dec 31 2017     596.604167\n",
       "Q3 Mar 31 2018     717.500000\n",
       "Name: Success_len, dtype: float64"
      ]
     },
     "execution_count": 27,
     "metadata": {},
     "output_type": "execute_result"
    }
   ],
   "source": [
    "grouped_quarter_success_len.mean()"
   ]
  },
  {
   "cell_type": "code",
   "execution_count": 28,
   "metadata": {},
   "outputs": [
    {
     "data": {
      "text/plain": [
       "<matplotlib.axes._subplots.AxesSubplot at 0x16eaae1ad68>"
      ]
     },
     "execution_count": 28,
     "metadata": {},
     "output_type": "execute_result"
    },
    {
     "data": {
      "image/png": "[encoded data removed]",
      "text/plain": [
       "<matplotlib.figure.Figure at 0x16eaa87a2b0>"
      ]
     },
     "metadata": {},
     "output_type": "display_data"
    }
   ],
   "source": [
    "%matplotlib inline\n",
    "import matplotlib.pyplot as plt\n",
    "fig, axes = plt.subplots()\n",
    "data = grouped_quarter_success_len.mean()\n",
    "data.plot.bar(title='Mean of All Outcomes Character Count by Reporting Quarter - Success', figsize=(8,6))"
   ]
  },
  {
   "cell_type": "code",
   "execution_count": 29,
   "metadata": {
    "collapsed": true
   },
   "outputs": [],
   "source": [
    "grouped_outcome_activities = report_df['Activities_len'].groupby([report_df['Outcome'], \\\n",
    "                                                                  report_df['Reporting Quarter']]).mean()"
   ]
  },
  {
   "cell_type": "code",
   "execution_count": 30,
   "metadata": {},
   "outputs": [
    {
     "data": {
      "text/html": [
       "<div>\n",
       "<style>\n",
       "    .dataframe thead tr:only-child th {\n",
       "        text-align: right;\n",
       "    }\n",
       "\n",
       "    .dataframe thead th {\n",
       "        text-align: left;\n",
       "    }\n",
       "\n",
       "    .dataframe tbody tr th {\n",
       "        vertical-align: top;\n",
       "    }\n",
       "</style>\n",
       "<table border=\"1\" class=\"dataframe\">\n",
       "  <thead>\n",
       "    <tr style=\"text-align: right;\">\n",
       "      <th>Reporting Quarter</th>\n",
       "      <th>Q1 Sept 30 2017</th>\n",
       "      <th>Q2 Dec 31 2017</th>\n",
       "      <th>Q3 Mar 31 2018</th>\n",
       "    </tr>\n",
       "    <tr>\n",
       "      <th>Outcome</th>\n",
       "      <th></th>\n",
       "      <th></th>\n",
       "      <th></th>\n",
       "    </tr>\n",
       "  </thead>\n",
       "  <tbody>\n",
       "    <tr>\n",
       "      <th>Community of Practice</th>\n",
       "      <td>1192.375000</td>\n",
       "      <td>1382.541667</td>\n",
       "      <td>1219.000000</td>\n",
       "    </tr>\n",
       "    <tr>\n",
       "      <th>Curriculum</th>\n",
       "      <td>892.041667</td>\n",
       "      <td>922.520000</td>\n",
       "      <td>879.500000</td>\n",
       "    </tr>\n",
       "    <tr>\n",
       "      <th>Internships</th>\n",
       "      <td>875.000000</td>\n",
       "      <td>1106.500000</td>\n",
       "      <td>1060.615385</td>\n",
       "    </tr>\n",
       "    <tr>\n",
       "      <th>Makerspace</th>\n",
       "      <td>1407.208333</td>\n",
       "      <td>1624.173913</td>\n",
       "      <td>1493.708333</td>\n",
       "    </tr>\n",
       "  </tbody>\n",
       "</table>\n",
       "</div>"
      ],
      "text/plain": [
       "Reporting Quarter      Q1 Sept 30 2017  Q2 Dec 31 2017  Q3 Mar 31 2018\n",
       "Outcome                                                               \n",
       "Community of Practice      1192.375000     1382.541667     1219.000000\n",
       "Curriculum                  892.041667      922.520000      879.500000\n",
       "Internships                 875.000000     1106.500000     1060.615385\n",
       "Makerspace                 1407.208333     1624.173913     1493.708333"
      ]
     },
     "execution_count": 30,
     "metadata": {},
     "output_type": "execute_result"
    }
   ],
   "source": [
    "grouped_outcome_activities.unstack()"
   ]
  },
  {
   "cell_type": "code",
   "execution_count": 31,
   "metadata": {},
   "outputs": [
    {
     "data": {
      "text/plain": [
       "<matplotlib.axes._subplots.AxesSubplot at 0x16eaae1a4a8>"
      ]
     },
     "execution_count": 31,
     "metadata": {},
     "output_type": "execute_result"
    },
    {
     "data": {
      "image/png": "[encoded data removed]",
      "text/plain": [
       "<matplotlib.figure.Figure at 0x16eaae9f2e8>"
      ]
     },
     "metadata": {},
     "output_type": "display_data"
    }
   ],
   "source": [
    "%matplotlib inline\n",
    "import matplotlib.pyplot as plt\n",
    "data = grouped_outcome_activities.unstack()\n",
    "data.plot.bar(title='Mean of Outcome Character Count by Reporting Quarter - Activities', figsize=(8,6))"
   ]
  },
  {
   "cell_type": "code",
   "execution_count": 32,
   "metadata": {
    "collapsed": true
   },
   "outputs": [],
   "source": [
    "grouped_outcome_success = report_df['Success_len'].groupby([report_df['Outcome'], \\\n",
    "                                                                  report_df['Reporting Quarter']]).mean()"
   ]
  },
  {
   "cell_type": "code",
   "execution_count": 33,
   "metadata": {},
   "outputs": [
    {
     "data": {
      "text/html": [
       "<div>\n",
       "<style>\n",
       "    .dataframe thead tr:only-child th {\n",
       "        text-align: right;\n",
       "    }\n",
       "\n",
       "    .dataframe thead th {\n",
       "        text-align: left;\n",
       "    }\n",
       "\n",
       "    .dataframe tbody tr th {\n",
       "        vertical-align: top;\n",
       "    }\n",
       "</style>\n",
       "<table border=\"1\" class=\"dataframe\">\n",
       "  <thead>\n",
       "    <tr style=\"text-align: right;\">\n",
       "      <th>Reporting Quarter</th>\n",
       "      <th>Q1 Sept 30 2017</th>\n",
       "      <th>Q2 Dec 31 2017</th>\n",
       "      <th>Q3 Mar 31 2018</th>\n",
       "    </tr>\n",
       "    <tr>\n",
       "      <th>Outcome</th>\n",
       "      <th></th>\n",
       "      <th></th>\n",
       "      <th></th>\n",
       "    </tr>\n",
       "  </thead>\n",
       "  <tbody>\n",
       "    <tr>\n",
       "      <th>Community of Practice</th>\n",
       "      <td>506.250000</td>\n",
       "      <td>643.250000</td>\n",
       "      <td>947.083333</td>\n",
       "    </tr>\n",
       "    <tr>\n",
       "      <th>Curriculum</th>\n",
       "      <td>419.500000</td>\n",
       "      <td>612.600000</td>\n",
       "      <td>711.500000</td>\n",
       "    </tr>\n",
       "    <tr>\n",
       "      <th>Internships</th>\n",
       "      <td>318.200000</td>\n",
       "      <td>449.166667</td>\n",
       "      <td>533.653846</td>\n",
       "    </tr>\n",
       "    <tr>\n",
       "      <th>Makerspace</th>\n",
       "      <td>677.208333</td>\n",
       "      <td>684.391304</td>\n",
       "      <td>693.083333</td>\n",
       "    </tr>\n",
       "  </tbody>\n",
       "</table>\n",
       "</div>"
      ],
      "text/plain": [
       "Reporting Quarter      Q1 Sept 30 2017  Q2 Dec 31 2017  Q3 Mar 31 2018\n",
       "Outcome                                                               \n",
       "Community of Practice       506.250000      643.250000      947.083333\n",
       "Curriculum                  419.500000      612.600000      711.500000\n",
       "Internships                 318.200000      449.166667      533.653846\n",
       "Makerspace                  677.208333      684.391304      693.083333"
      ]
     },
     "execution_count": 33,
     "metadata": {},
     "output_type": "execute_result"
    }
   ],
   "source": [
    "grouped_outcome_success.unstack()"
   ]
  },
  {
   "cell_type": "code",
   "execution_count": 34,
   "metadata": {},
   "outputs": [
    {
     "data": {
      "text/plain": [
       "<matplotlib.axes._subplots.AxesSubplot at 0x16eaae5e048>"
      ]
     },
     "execution_count": 34,
     "metadata": {},
     "output_type": "execute_result"
    },
    {
     "data": {
      "image/png": "[encoded data removed]",
      "text/plain": [
       "<matplotlib.figure.Figure at 0x16eaaf2c400>"
      ]
     },
     "metadata": {},
     "output_type": "display_data"
    }
   ],
   "source": [
    "%matplotlib inline\n",
    "import matplotlib.pyplot as plt\n",
    "data = grouped_outcome_success.unstack()\n",
    "data.plot.bar(title='Mean of Outcome Character Count by Reporting Quarter - Success', figsize=(8,6))"
   ]
  },
  {
   "cell_type": "code",
   "execution_count": 35,
   "metadata": {
    "collapsed": true
   },
   "outputs": [],
   "source": [
    "grouped_college_activities = report_df['Activities_len'].groupby([report_df['College'], \\\n",
    "                                                                  report_df['Reporting Quarter']]).mean()"
   ]
  },
  {
   "cell_type": "code",
   "execution_count": 36,
   "metadata": {},
   "outputs": [
    {
     "data": {
      "text/html": [
       "<div>\n",
       "<style>\n",
       "    .dataframe thead tr:only-child th {\n",
       "        text-align: right;\n",
       "    }\n",
       "\n",
       "    .dataframe thead th {\n",
       "        text-align: left;\n",
       "    }\n",
       "\n",
       "    .dataframe tbody tr th {\n",
       "        vertical-align: top;\n",
       "    }\n",
       "</style>\n",
       "<table border=\"1\" class=\"dataframe\">\n",
       "  <thead>\n",
       "    <tr style=\"text-align: right;\">\n",
       "      <th>Reporting Quarter</th>\n",
       "      <th>Q1 Sept 30 2017</th>\n",
       "      <th>Q2 Dec 31 2017</th>\n",
       "      <th>Q3 Mar 31 2018</th>\n",
       "    </tr>\n",
       "    <tr>\n",
       "      <th>College</th>\n",
       "      <th></th>\n",
       "      <th></th>\n",
       "      <th></th>\n",
       "    </tr>\n",
       "  </thead>\n",
       "  <tbody>\n",
       "    <tr>\n",
       "      <th>Allan Hancock College</th>\n",
       "      <td>621.500000</td>\n",
       "      <td>1982.500000</td>\n",
       "      <td>1399.750000</td>\n",
       "    </tr>\n",
       "    <tr>\n",
       "      <th>American River College</th>\n",
       "      <td>343.250000</td>\n",
       "      <td>1142.750000</td>\n",
       "      <td>397.000000</td>\n",
       "    </tr>\n",
       "    <tr>\n",
       "      <th>Butte College</th>\n",
       "      <td>414.250000</td>\n",
       "      <td>429.000000</td>\n",
       "      <td>808.166667</td>\n",
       "    </tr>\n",
       "    <tr>\n",
       "      <th>Cabrillo College</th>\n",
       "      <td>3181.000000</td>\n",
       "      <td>2669.250000</td>\n",
       "      <td>1589.000000</td>\n",
       "    </tr>\n",
       "    <tr>\n",
       "      <th>Chaffey College</th>\n",
       "      <td>1126.800000</td>\n",
       "      <td>1178.250000</td>\n",
       "      <td>911.500000</td>\n",
       "    </tr>\n",
       "    <tr>\n",
       "      <th>City College of San Francisco</th>\n",
       "      <td>2204.000000</td>\n",
       "      <td>1690.333333</td>\n",
       "      <td>1785.000000</td>\n",
       "    </tr>\n",
       "    <tr>\n",
       "      <th>College of Alameda</th>\n",
       "      <td>262.666667</td>\n",
       "      <td>442.500000</td>\n",
       "      <td>707.250000</td>\n",
       "    </tr>\n",
       "    <tr>\n",
       "      <th>College of San Mateo</th>\n",
       "      <td>1111.000000</td>\n",
       "      <td>1347.000000</td>\n",
       "      <td>1105.250000</td>\n",
       "    </tr>\n",
       "    <tr>\n",
       "      <th>College of the Canyons</th>\n",
       "      <td>1245.750000</td>\n",
       "      <td>1717.250000</td>\n",
       "      <td>779.000000</td>\n",
       "    </tr>\n",
       "    <tr>\n",
       "      <th>Folsom Lake College</th>\n",
       "      <td>318.250000</td>\n",
       "      <td>595.000000</td>\n",
       "      <td>340.000000</td>\n",
       "    </tr>\n",
       "    <tr>\n",
       "      <th>Foothill College</th>\n",
       "      <td>629.000000</td>\n",
       "      <td>1431.000000</td>\n",
       "      <td>528.000000</td>\n",
       "    </tr>\n",
       "    <tr>\n",
       "      <th>Glendale College</th>\n",
       "      <td>1139.250000</td>\n",
       "      <td>1174.500000</td>\n",
       "      <td>1158.250000</td>\n",
       "    </tr>\n",
       "    <tr>\n",
       "      <th>Golden West College</th>\n",
       "      <td>680.750000</td>\n",
       "      <td>1432.250000</td>\n",
       "      <td>644.750000</td>\n",
       "    </tr>\n",
       "    <tr>\n",
       "      <th>Hartnell College</th>\n",
       "      <td>1638.000000</td>\n",
       "      <td>711.500000</td>\n",
       "      <td>2374.000000</td>\n",
       "    </tr>\n",
       "    <tr>\n",
       "      <th>Laney College</th>\n",
       "      <td>520.200000</td>\n",
       "      <td>370.750000</td>\n",
       "      <td>740.250000</td>\n",
       "    </tr>\n",
       "    <tr>\n",
       "      <th>Moorpark College</th>\n",
       "      <td>1498.000000</td>\n",
       "      <td>1631.200000</td>\n",
       "      <td>1744.250000</td>\n",
       "    </tr>\n",
       "    <tr>\n",
       "      <th>Moreno Valley College</th>\n",
       "      <td>1305.750000</td>\n",
       "      <td>1389.250000</td>\n",
       "      <td>2056.250000</td>\n",
       "    </tr>\n",
       "    <tr>\n",
       "      <th>Mt. San Antonio College</th>\n",
       "      <td>1176.000000</td>\n",
       "      <td>681.250000</td>\n",
       "      <td>568.750000</td>\n",
       "    </tr>\n",
       "    <tr>\n",
       "      <th>Mt. San Jacinto College</th>\n",
       "      <td>823.250000</td>\n",
       "      <td>383.750000</td>\n",
       "      <td>878.500000</td>\n",
       "    </tr>\n",
       "    <tr>\n",
       "      <th>Orange Coast College</th>\n",
       "      <td>903.750000</td>\n",
       "      <td>1183.500000</td>\n",
       "      <td>1566.000000</td>\n",
       "    </tr>\n",
       "    <tr>\n",
       "      <th>Sacramento City College</th>\n",
       "      <td>1174.500000</td>\n",
       "      <td>1875.500000</td>\n",
       "      <td>1434.000000</td>\n",
       "    </tr>\n",
       "    <tr>\n",
       "      <th>San Bernardino Valley College</th>\n",
       "      <td>778.750000</td>\n",
       "      <td>1465.500000</td>\n",
       "      <td>960.750000</td>\n",
       "    </tr>\n",
       "    <tr>\n",
       "      <th>Sierra College</th>\n",
       "      <td>2486.750000</td>\n",
       "      <td>2260.750000</td>\n",
       "      <td>2476.000000</td>\n",
       "    </tr>\n",
       "    <tr>\n",
       "      <th>Woodland Community College</th>\n",
       "      <td>490.000000</td>\n",
       "      <td>869.250000</td>\n",
       "      <td>1091.500000</td>\n",
       "    </tr>\n",
       "  </tbody>\n",
       "</table>\n",
       "</div>"
      ],
      "text/plain": [
       "Reporting Quarter              Q1 Sept 30 2017  Q2 Dec 31 2017  Q3 Mar 31 2018\n",
       "College                                                                       \n",
       "Allan Hancock College               621.500000     1982.500000     1399.750000\n",
       "American River College              343.250000     1142.750000      397.000000\n",
       "Butte College                       414.250000      429.000000      808.166667\n",
       "Cabrillo College                   3181.000000     2669.250000     1589.000000\n",
       "Chaffey College                    1126.800000     1178.250000      911.500000\n",
       "City College of San Francisco      2204.000000     1690.333333     1785.000000\n",
       "College of Alameda                  262.666667      442.500000      707.250000\n",
       "College of San Mateo               1111.000000     1347.000000     1105.250000\n",
       "College of the Canyons             1245.750000     1717.250000      779.000000\n",
       "Folsom Lake College                 318.250000      595.000000      340.000000\n",
       "Foothill College                    629.000000     1431.000000      528.000000\n",
       "Glendale College                   1139.250000     1174.500000     1158.250000\n",
       "Golden West College                 680.750000     1432.250000      644.750000\n",
       "Hartnell College                   1638.000000      711.500000     2374.000000\n",
       "Laney College                       520.200000      370.750000      740.250000\n",
       "Moorpark College                   1498.000000     1631.200000     1744.250000\n",
       "Moreno Valley College              1305.750000     1389.250000     2056.250000\n",
       "Mt. San Antonio College            1176.000000      681.250000      568.750000\n",
       "Mt. San Jacinto College             823.250000      383.750000      878.500000\n",
       "Orange Coast College                903.750000     1183.500000     1566.000000\n",
       "Sacramento City College            1174.500000     1875.500000     1434.000000\n",
       "San Bernardino Valley College       778.750000     1465.500000      960.750000\n",
       "Sierra College                     2486.750000     2260.750000     2476.000000\n",
       "Woodland Community College          490.000000      869.250000     1091.500000"
      ]
     },
     "execution_count": 36,
     "metadata": {},
     "output_type": "execute_result"
    }
   ],
   "source": [
    "grouped_college_activities.unstack()"
   ]
  },
  {
   "cell_type": "code",
   "execution_count": 3,
   "metadata": {},
   "outputs": [
    {
     "ename": "NameError",
     "evalue": "name 'grouped_college_activities' is not defined",
     "output_type": "error",
     "traceback": [
      "\u001b[1;31m---------------------------------------------------------------------------\u001b[0m",
      "\u001b[1;31mNameError\u001b[0m                                 Traceback (most recent call last)",
      "\u001b[1;32m<ipython-input-3-5fb2a892098e>\u001b[0m in \u001b[0;36m<module>\u001b[1;34m()\u001b[0m\n\u001b[0;32m      1\u001b[0m \u001b[0mget_ipython\u001b[0m\u001b[1;33m(\u001b[0m\u001b[1;33m)\u001b[0m\u001b[1;33m.\u001b[0m\u001b[0mmagic\u001b[0m\u001b[1;33m(\u001b[0m\u001b[1;34m'matplotlib inline'\u001b[0m\u001b[1;33m)\u001b[0m\u001b[1;33m\u001b[0m\u001b[0m\n\u001b[0;32m      2\u001b[0m \u001b[1;32mimport\u001b[0m \u001b[0mmatplotlib\u001b[0m\u001b[1;33m.\u001b[0m\u001b[0mpyplot\u001b[0m \u001b[1;32mas\u001b[0m \u001b[0mplt\u001b[0m\u001b[1;33m\u001b[0m\u001b[0m\n\u001b[1;32m----> 3\u001b[1;33m \u001b[0mdata\u001b[0m \u001b[1;33m=\u001b[0m \u001b[0mgrouped_college_activities\u001b[0m\u001b[1;33m.\u001b[0m\u001b[0munstack\u001b[0m\u001b[1;33m(\u001b[0m\u001b[1;33m)\u001b[0m\u001b[1;33m\u001b[0m\u001b[0m\n\u001b[0m\u001b[0;32m      4\u001b[0m \u001b[0mdata\u001b[0m\u001b[1;33m.\u001b[0m\u001b[0mplot\u001b[0m\u001b[1;33m.\u001b[0m\u001b[0mbar\u001b[0m\u001b[1;33m(\u001b[0m\u001b[0mtitle\u001b[0m\u001b[1;33m=\u001b[0m\u001b[1;34m'Mean of College Character Count by Reporting Quarter - Activities'\u001b[0m\u001b[1;33m,\u001b[0m \u001b[0mfigsize\u001b[0m\u001b[1;33m=\u001b[0m\u001b[1;33m(\u001b[0m\u001b[1;36m16\u001b[0m\u001b[1;33m,\u001b[0m\u001b[1;36m6\u001b[0m\u001b[1;33m)\u001b[0m\u001b[1;33m)\u001b[0m\u001b[1;33m\u001b[0m\u001b[0m\n",
      "\u001b[1;31mNameError\u001b[0m: name 'grouped_college_activities' is not defined"
     ]
    }
   ],
   "source": [
    "%matplotlib inline\n",
    "import matplotlib.pyplot as plt\n",
    "data = grouped_college_activities.unstack()\n",
    "data.plot.bar(title='Mean of College Character Count by Reporting Quarter - Activities', figsize=(16,6))"
   ]
  },
  {
   "cell_type": "code",
   "execution_count": 40,
   "metadata": {
    "collapsed": true
   },
   "outputs": [],
   "source": [
    "grouped_college_success = report_df['Success_len'].groupby([report_df['College'], \\\n",
    "                                                                  report_df['Reporting Quarter']]).mean()"
   ]
  },
  {
   "cell_type": "code",
   "execution_count": 41,
   "metadata": {},
   "outputs": [
    {
     "data": {
      "text/html": [
       "<div>\n",
       "<style>\n",
       "    .dataframe thead tr:only-child th {\n",
       "        text-align: right;\n",
       "    }\n",
       "\n",
       "    .dataframe thead th {\n",
       "        text-align: left;\n",
       "    }\n",
       "\n",
       "    .dataframe tbody tr th {\n",
       "        vertical-align: top;\n",
       "    }\n",
       "</style>\n",
       "<table border=\"1\" class=\"dataframe\">\n",
       "  <thead>\n",
       "    <tr style=\"text-align: right;\">\n",
       "      <th>Reporting Quarter</th>\n",
       "      <th>Q1 Sept 30 2017</th>\n",
       "      <th>Q2 Dec 31 2017</th>\n",
       "      <th>Q3 Mar 31 2018</th>\n",
       "    </tr>\n",
       "    <tr>\n",
       "      <th>College</th>\n",
       "      <th></th>\n",
       "      <th></th>\n",
       "      <th></th>\n",
       "    </tr>\n",
       "  </thead>\n",
       "  <tbody>\n",
       "    <tr>\n",
       "      <th>Allan Hancock College</th>\n",
       "      <td>318.750000</td>\n",
       "      <td>455.000000</td>\n",
       "      <td>1523.250000</td>\n",
       "    </tr>\n",
       "    <tr>\n",
       "      <th>American River College</th>\n",
       "      <td>184.000000</td>\n",
       "      <td>862.000000</td>\n",
       "      <td>916.000000</td>\n",
       "    </tr>\n",
       "    <tr>\n",
       "      <th>Butte College</th>\n",
       "      <td>370.500000</td>\n",
       "      <td>481.500000</td>\n",
       "      <td>727.666667</td>\n",
       "    </tr>\n",
       "    <tr>\n",
       "      <th>Cabrillo College</th>\n",
       "      <td>412.000000</td>\n",
       "      <td>812.500000</td>\n",
       "      <td>1011.500000</td>\n",
       "    </tr>\n",
       "    <tr>\n",
       "      <th>Chaffey College</th>\n",
       "      <td>443.400000</td>\n",
       "      <td>465.500000</td>\n",
       "      <td>438.250000</td>\n",
       "    </tr>\n",
       "    <tr>\n",
       "      <th>City College of San Francisco</th>\n",
       "      <td>1376.250000</td>\n",
       "      <td>763.666667</td>\n",
       "      <td>1284.750000</td>\n",
       "    </tr>\n",
       "    <tr>\n",
       "      <th>College of Alameda</th>\n",
       "      <td>180.666667</td>\n",
       "      <td>332.750000</td>\n",
       "      <td>442.000000</td>\n",
       "    </tr>\n",
       "    <tr>\n",
       "      <th>College of San Mateo</th>\n",
       "      <td>915.000000</td>\n",
       "      <td>964.000000</td>\n",
       "      <td>884.000000</td>\n",
       "    </tr>\n",
       "    <tr>\n",
       "      <th>College of the Canyons</th>\n",
       "      <td>1056.750000</td>\n",
       "      <td>947.500000</td>\n",
       "      <td>1316.750000</td>\n",
       "    </tr>\n",
       "    <tr>\n",
       "      <th>Folsom Lake College</th>\n",
       "      <td>373.750000</td>\n",
       "      <td>234.750000</td>\n",
       "      <td>217.250000</td>\n",
       "    </tr>\n",
       "    <tr>\n",
       "      <th>Foothill College</th>\n",
       "      <td>343.250000</td>\n",
       "      <td>680.500000</td>\n",
       "      <td>360.000000</td>\n",
       "    </tr>\n",
       "    <tr>\n",
       "      <th>Glendale College</th>\n",
       "      <td>283.000000</td>\n",
       "      <td>674.250000</td>\n",
       "      <td>1046.250000</td>\n",
       "    </tr>\n",
       "    <tr>\n",
       "      <th>Golden West College</th>\n",
       "      <td>285.750000</td>\n",
       "      <td>1122.750000</td>\n",
       "      <td>615.750000</td>\n",
       "    </tr>\n",
       "    <tr>\n",
       "      <th>Hartnell College</th>\n",
       "      <td>144.000000</td>\n",
       "      <td>415.250000</td>\n",
       "      <td>480.750000</td>\n",
       "    </tr>\n",
       "    <tr>\n",
       "      <th>Laney College</th>\n",
       "      <td>105.800000</td>\n",
       "      <td>187.000000</td>\n",
       "      <td>587.750000</td>\n",
       "    </tr>\n",
       "    <tr>\n",
       "      <th>Moorpark College</th>\n",
       "      <td>837.750000</td>\n",
       "      <td>637.600000</td>\n",
       "      <td>467.000000</td>\n",
       "    </tr>\n",
       "    <tr>\n",
       "      <th>Moreno Valley College</th>\n",
       "      <td>430.000000</td>\n",
       "      <td>324.250000</td>\n",
       "      <td>573.750000</td>\n",
       "    </tr>\n",
       "    <tr>\n",
       "      <th>Mt. San Antonio College</th>\n",
       "      <td>229.000000</td>\n",
       "      <td>426.250000</td>\n",
       "      <td>635.250000</td>\n",
       "    </tr>\n",
       "    <tr>\n",
       "      <th>Mt. San Jacinto College</th>\n",
       "      <td>172.250000</td>\n",
       "      <td>142.500000</td>\n",
       "      <td>400.000000</td>\n",
       "    </tr>\n",
       "    <tr>\n",
       "      <th>Orange Coast College</th>\n",
       "      <td>865.000000</td>\n",
       "      <td>961.250000</td>\n",
       "      <td>1046.500000</td>\n",
       "    </tr>\n",
       "    <tr>\n",
       "      <th>Sacramento City College</th>\n",
       "      <td>417.500000</td>\n",
       "      <td>452.500000</td>\n",
       "      <td>635.000000</td>\n",
       "    </tr>\n",
       "    <tr>\n",
       "      <th>San Bernardino Valley College</th>\n",
       "      <td>427.000000</td>\n",
       "      <td>303.250000</td>\n",
       "      <td>380.000000</td>\n",
       "    </tr>\n",
       "    <tr>\n",
       "      <th>Sierra College</th>\n",
       "      <td>1128.000000</td>\n",
       "      <td>1322.250000</td>\n",
       "      <td>698.250000</td>\n",
       "    </tr>\n",
       "    <tr>\n",
       "      <th>Woodland Community College</th>\n",
       "      <td>215.000000</td>\n",
       "      <td>381.250000</td>\n",
       "      <td>527.250000</td>\n",
       "    </tr>\n",
       "  </tbody>\n",
       "</table>\n",
       "</div>"
      ],
      "text/plain": [
       "Reporting Quarter              Q1 Sept 30 2017  Q2 Dec 31 2017  Q3 Mar 31 2018\n",
       "College                                                                       \n",
       "Allan Hancock College               318.750000      455.000000     1523.250000\n",
       "American River College              184.000000      862.000000      916.000000\n",
       "Butte College                       370.500000      481.500000      727.666667\n",
       "Cabrillo College                    412.000000      812.500000     1011.500000\n",
       "Chaffey College                     443.400000      465.500000      438.250000\n",
       "City College of San Francisco      1376.250000      763.666667     1284.750000\n",
       "College of Alameda                  180.666667      332.750000      442.000000\n",
       "College of San Mateo                915.000000      964.000000      884.000000\n",
       "College of the Canyons             1056.750000      947.500000     1316.750000\n",
       "Folsom Lake College                 373.750000      234.750000      217.250000\n",
       "Foothill College                    343.250000      680.500000      360.000000\n",
       "Glendale College                    283.000000      674.250000     1046.250000\n",
       "Golden West College                 285.750000     1122.750000      615.750000\n",
       "Hartnell College                    144.000000      415.250000      480.750000\n",
       "Laney College                       105.800000      187.000000      587.750000\n",
       "Moorpark College                    837.750000      637.600000      467.000000\n",
       "Moreno Valley College               430.000000      324.250000      573.750000\n",
       "Mt. San Antonio College             229.000000      426.250000      635.250000\n",
       "Mt. San Jacinto College             172.250000      142.500000      400.000000\n",
       "Orange Coast College                865.000000      961.250000     1046.500000\n",
       "Sacramento City College             417.500000      452.500000      635.000000\n",
       "San Bernardino Valley College       427.000000      303.250000      380.000000\n",
       "Sierra College                     1128.000000     1322.250000      698.250000\n",
       "Woodland Community College          215.000000      381.250000      527.250000"
      ]
     },
     "execution_count": 41,
     "metadata": {},
     "output_type": "execute_result"
    }
   ],
   "source": [
    "grouped_college_success.unstack()"
   ]
  },
  {
   "cell_type": "code",
   "execution_count": 42,
   "metadata": {},
   "outputs": [
    {
     "data": {
      "text/plain": [
       "<matplotlib.axes._subplots.AxesSubplot at 0x16eac1aa780>"
      ]
     },
     "execution_count": 42,
     "metadata": {},
     "output_type": "execute_result"
    },
    {
     "data": {
      "image/png": "[encoded data removed]",
      "text/plain": [
       "<matplotlib.figure.Figure at 0x16eac188f98>"
      ]
     },
     "metadata": {},
     "output_type": "display_data"
    }
   ],
   "source": [
    "%matplotlib inline\n",
    "import matplotlib.pyplot as plt\n",
    "data = grouped_college_success.unstack()\n",
    "data.plot.bar(title='Mean of College Character Count by Reporting Quarter - Success', figsize=(16,6))"
   ]
  },
  {
   "cell_type": "markdown",
   "metadata": {},
   "source": [
    "## Conclusions:\n",
    "\n",
    "### Entries for Activities across quarters have sustained a stable count with the Outcomes of Makerspace and Community of Practice containing more information. Entries for all Outcomes Succeesses have increased progressively across each quarter. Individual college entries will be compared to quarterly results in further studies of Activity and Success effects on reported metrics. "
   ]
  },
  {
   "cell_type": "code",
   "execution_count": null,
   "metadata": {
    "collapsed": true
   },
   "outputs": [],
   "source": []
  }
 ],
 "metadata": {
  "kernelspec": {
   "display_name": "Python 3",
   "language": "python",
   "name": "python3"
  },
  "language_info": {
   "codemirror_mode": {
    "name": "ipython",
    "version": 3
   },
   "file_extension": ".py",
   "mimetype": "text/x-python",
   "name": "python",
   "nbconvert_exporter": "python",
   "pygments_lexer": "ipython3",
   "version": "3.6.3"
  }
 },
 "nbformat": 4,
 "nbformat_minor": 2
}
